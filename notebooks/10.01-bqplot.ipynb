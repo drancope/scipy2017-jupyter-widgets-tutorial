{
 "cells": [
  {
   "cell_type": "markdown",
   "metadata": {},
   "source": [
    "# bqplot: complex interactive visualizations\n",
    "\n",
    "## https://github.com/bloomberg/bqplot\n",
    "\n",
    "## A Jupyter - d3.js bridge\n",
    "\n",
    "bqplot is a jupyter interactive widget library bringing d3.js visualization to the Jupyter notebook.\n",
    "\n",
    "- Apache Licensed\n",
    "\n",
    "bqplot implements the abstractions of Wilkinson’s “The Grammar of Graphics” as interactive Jupyter widgets.\n",
    "\n",
    "bqplot provides both\n",
    "-\thigh-level plotting procedures with relevant defaults for common chart types,\n",
    "-\tlower-level descriptions of data visualizations meant for complex interactive visualization dashboards and applications involving mouse interactions and user-provided Python callbacks.\n",
    "\n",
    "**Installation:**\n",
    "\n",
    "```bash\n",
    "conda install -c conda-forge bqplot\n",
    "```"
   ]
  },
  {
   "cell_type": "code",
   "execution_count": 1,
   "metadata": {},
   "outputs": [],
   "source": [
    "from __future__ import print_function\n",
    "from IPython.display import display\n",
    "from ipywidgets import *\n",
    "from traitlets import *\n",
    "\n",
    "import numpy as np\n",
    "import pandas as pd\n",
    "import bqplot as bq\n",
    "import datetime as dt"
   ]
  },
  {
   "cell_type": "code",
   "execution_count": 2,
   "metadata": {},
   "outputs": [],
   "source": [
    "np.random.seed(0)\n",
    "size = 100\n",
    "y_data = np.cumsum(np.random.randn(size) * 100.0)\n",
    "y_data_2 = np.cumsum(np.random.randn(size))\n",
    "y_data_3 = np.cumsum(np.random.randn(size) * 100.)\n",
    "\n",
    "x = np.linspace(0.0, 10.0, size)\n",
    "\n",
    "price_data = pd.DataFrame(np.cumsum(np.random.randn(150, 2).dot([[0.5, 0.8], [0.8, 1.0]]), axis=0) + 100,\n",
    "                          columns=['Security 1', 'Security 2'],\n",
    "                          index=pd.date_range(start='01-01-2007', periods=150))\n",
    "\n",
    "symbol = 'Security 1'\n",
    "dates_all = price_data.index.values\n",
    "final_prices = price_data[symbol].values.flatten()"
   ]
  },
  {
   "cell_type": "markdown",
   "metadata": {},
   "source": [
    "# A simple plot with the pyplot API"
   ]
  },
  {
   "cell_type": "code",
   "execution_count": 3,
   "metadata": {},
   "outputs": [],
   "source": [
    "from bqplot import pyplot as plt"
   ]
  },
  {
   "cell_type": "code",
   "execution_count": 4,
   "metadata": {},
   "outputs": [
    {
     "data": {
      "application/vnd.jupyter.widget-view+json": {
       "model_id": "d973afc9ee0c4074b64182f919a0f231",
       "version_major": 2,
       "version_minor": 0
      },
      "text/plain": [
       "VBox(children=(Figure(axes=[Axis(scale=LinearScale()), Axis(grid_lines='dashed', orientation='vertical', scale…"
      ]
     },
     "metadata": {},
     "output_type": "display_data"
    }
   ],
   "source": [
    "plt.figure(1)\n",
    "n = 100\n",
    "plt.plot(np.linspace(0.0, 10.0, n), np.cumsum(np.random.randn(n)), \n",
    "         axes_options={'y': {'grid_lines': 'dashed'}})\n",
    "plt.show()"
   ]
  },
  {
   "cell_type": "markdown",
   "metadata": {},
   "source": [
    "### Scatter Plot"
   ]
  },
  {
   "cell_type": "code",
   "execution_count": 43,
   "metadata": {},
   "outputs": [
    {
     "data": {
      "application/vnd.jupyter.widget-view+json": {
       "model_id": "d0744eb804d64d09b148457c0d7307d0",
       "version_major": 2,
       "version_minor": 0
      },
      "text/plain": [
       "VBox(children=(Figure(axes=[ColorAxis(scale=ColorScale()), Axis(scale=LinearScale()), Axis(orientation='vertic…"
      ]
     },
     "metadata": {},
     "output_type": "display_data"
    }
   ],
   "source": [
    "plt.figure(title='Scatter Plot with colors')\n",
    "plt.scatter(y_data_2, y_data_3, color=y_data)\n",
    "plt.show()"
   ]
  },
  {
   "cell_type": "markdown",
   "metadata": {},
   "source": [
    "### Histogram"
   ]
  },
  {
   "cell_type": "code",
   "execution_count": 44,
   "metadata": {},
   "outputs": [
    {
     "data": {
      "application/vnd.jupyter.widget-view+json": {
       "model_id": "f0ca6907de944d169669adb91026b20a",
       "version_major": 2,
       "version_minor": 0
      },
      "text/plain": [
       "VBox(children=(Figure(axes=[Axis(orientation='vertical', scale=LinearScale()), Axis(scale=LinearScale())], fig…"
      ]
     },
     "metadata": {},
     "output_type": "display_data"
    }
   ],
   "source": [
    "plt.figure()\n",
    "plt.hist(y_data, colors=['OrangeRed'])\n",
    "plt.show()"
   ]
  },
  {
   "cell_type": "markdown",
   "metadata": {},
   "source": [
    "# Every component of the figure is an independent widget"
   ]
  },
  {
   "cell_type": "code",
   "execution_count": 7,
   "metadata": {},
   "outputs": [
    {
     "data": {
      "application/vnd.jupyter.widget-view+json": {
       "model_id": "5ae398a68e9b42ebbc27a41a6511c93f",
       "version_major": 2,
       "version_minor": 0
      },
      "text/plain": [
       "Figure(animation_duration=1000, axes=[Axis(label='x', scale=LinearScale()), Axis(label='y', orientation='verti…"
      ]
     },
     "metadata": {},
     "output_type": "display_data"
    }
   ],
   "source": [
    "xs = bq.LinearScale()\n",
    "ys = bq.LinearScale()\n",
    "x = np.arange(100)\n",
    "y = np.cumsum(np.random.randn(2, 100), axis=1) #two random walks\n",
    "\n",
    "line = bq.Lines(x=x, y=y, scales={'x': xs, 'y': ys}, colors=['red', 'green'])\n",
    "xax = bq.Axis(scale=xs, label='x', grid_lines='solid')\n",
    "yax = bq.Axis(scale=ys, orientation='vertical', tick_format='0.2f', label='y', grid_lines='solid')\n",
    "\n",
    "fig = bq.Figure(marks=[line], axes=[xax, yax], animation_duration=1000)\n",
    "display(fig)"
   ]
  },
  {
   "cell_type": "code",
   "execution_count": 13,
   "metadata": {
    "tags": []
   },
   "outputs": [],
   "source": [
    "# update data of the line mark\n",
    "line.y = np.cumsum(np.random.randn(2, 100), axis=1)"
   ]
  },
  {
   "cell_type": "code",
   "execution_count": 14,
   "metadata": {},
   "outputs": [
    {
     "data": {
      "application/vnd.jupyter.widget-view+json": {
       "model_id": "66b1113f96f24f81af2ed931157461cc",
       "version_major": 2,
       "version_minor": 0
      },
      "text/plain": [
       "Figure(animation_duration=1000, axes=[Axis(label='x', scale=LinearScale()), Axis(label='y', orientation='verti…"
      ]
     },
     "metadata": {},
     "output_type": "display_data"
    }
   ],
   "source": [
    "xs = bq.LinearScale()\n",
    "ys = bq.LinearScale()\n",
    "x, y = np.random.rand(2, 20)\n",
    "scatt = bq.Scatter(x=x, y=y, scales={'x': xs, 'y': ys}, default_colors=['blue'])\n",
    "xax = bq.Axis(scale=xs, label='x', grid_lines='solid')\n",
    "yax = bq.Axis(scale=ys, orientation='vertical', tick_format='0.2f', label='y', grid_lines='solid')\n",
    "\n",
    "fig = bq.Figure(marks=[scatt], axes=[xax, yax], animation_duration=1000)\n",
    "display(fig)"
   ]
  },
  {
   "cell_type": "code",
   "execution_count": 16,
   "metadata": {
    "tags": []
   },
   "outputs": [],
   "source": [
    "#data updates\n",
    "scatt.x = np.random.rand(20) * 10\n",
    "scatt.y = np.random.rand(20)"
   ]
  },
  {
   "cell_type": "markdown",
   "metadata": {},
   "source": [
    "## The same holds for the attributes of scales, axes"
   ]
  },
  {
   "cell_type": "code",
   "execution_count": 17,
   "metadata": {
    "tags": []
   },
   "outputs": [],
   "source": [
    "xs.min = 4"
   ]
  },
  {
   "cell_type": "code",
   "execution_count": 18,
   "metadata": {
    "tags": []
   },
   "outputs": [],
   "source": [
    "xs.min = None"
   ]
  },
  {
   "cell_type": "code",
   "execution_count": 19,
   "metadata": {
    "tags": []
   },
   "outputs": [],
   "source": [
    "xax.label = 'Some label for the x axis'"
   ]
  },
  {
   "cell_type": "markdown",
   "metadata": {},
   "source": [
    "## Use bqplot figures as input widgets"
   ]
  },
  {
   "cell_type": "code",
   "execution_count": 21,
   "metadata": {
    "tags": []
   },
   "outputs": [],
   "source": [
    "xs = bq.LinearScale()\n",
    "ys = bq.LinearScale()\n",
    "x = np.arange(100)\n",
    "y = np.cumsum(np.random.randn(2, 100), axis=1) #two random walks\n",
    "\n",
    "line = bq.Lines(x=x, y=y, scales={'x': xs, 'y': ys}, colors=['red', 'green'])\n",
    "xax = bq.Axis(scale=xs, label='x', grid_lines='solid')\n",
    "yax = bq.Axis(scale=ys, orientation='vertical', tick_format='0.2f', label='y', grid_lines='solid')"
   ]
  },
  {
   "cell_type": "markdown",
   "metadata": {},
   "source": [
    "## Selections"
   ]
  },
  {
   "cell_type": "code",
   "execution_count": 40,
   "metadata": {},
   "outputs": [
    {
     "data": {
      "application/vnd.jupyter.widget-view+json": {
       "model_id": "0e26724cba3e4f3285ed026276c71521",
       "version_major": 2,
       "version_minor": 0
      },
      "text/plain": [
       "Label(value='None')"
      ]
     },
     "metadata": {},
     "output_type": "display_data"
    }
   ],
   "source": [
    "def interval_change_callback(change):\n",
    "    db.value = str(change['new'])\n",
    "\n",
    "intsel = bq.interacts.FastIntervalSelector(scale=xs, marks=[line])\n",
    "intsel.observe(interval_change_callback, names=['selected'] )\n",
    "\n",
    "db = widgets.Label()\n",
    "db.value = str(intsel.selected)\n",
    "display(db)"
   ]
  },
  {
   "cell_type": "code",
   "execution_count": 41,
   "metadata": {},
   "outputs": [
    {
     "data": {
      "application/vnd.jupyter.widget-view+json": {
       "model_id": "40e58b6f4f674c02ad5ec844c6a4c999",
       "version_major": 2,
       "version_minor": 0
      },
      "text/plain": [
       "Figure(animation_duration=1000, axes=[Axis(label='x', scale=LinearScale(), side='bottom'), Axis(label='y', ori…"
      ]
     },
     "metadata": {},
     "output_type": "display_data"
    }
   ],
   "source": [
    "fig = bq.Figure(marks=[line], axes=[xax, yax], animation_duration=1000, interaction=intsel)\n",
    "display(fig)"
   ]
  },
  {
   "cell_type": "code",
   "execution_count": 37,
   "metadata": {},
   "outputs": [],
   "source": [
    "line.selected"
   ]
  },
  {
   "cell_type": "markdown",
   "metadata": {},
   "source": [
    "# Handdraw"
   ]
  },
  {
   "cell_type": "code",
   "execution_count": 38,
   "metadata": {},
   "outputs": [],
   "source": [
    "handdraw = bq.interacts.HandDraw(lines=line)\n",
    "fig.interaction = handdraw"
   ]
  },
  {
   "cell_type": "code",
   "execution_count": 35,
   "metadata": {},
   "outputs": [
    {
     "data": {
      "text/plain": [
       "array([-5.76241816e-01, -1.63289893e-03, -4.91461118e-01,  1.67341024e-01,\n",
       "       -4.29576088e-01, -6.52535271e-01, -5.00358295e-01, -8.74484616e-01,\n",
       "       -8.87936085e-01, -7.24641156e-02,  3.38137676e-01,  8.19107526e-01,\n",
       "        1.83677087e-01,  1.03650686e+00,  1.70606920e+00,  2.71048839e+00,\n",
       "        1.98412256e+00,  1.81166396e+00,  2.44519786e+00,  1.83638274e+00,\n",
       "        1.61026027e+00,  3.53606601e+00,  5.48782702e+00,  6.72776757e+00,\n",
       "        7.66635271e+00,  6.64710156e+00,  7.15966379e+00,  6.80054720e+00,\n",
       "        5.74197530e+00,  5.23296946e+00,  5.34863454e+00,  4.80127896e+00,\n",
       "        4.25047954e+00,  5.04252103e+00,  5.18662752e+00,  5.42008560e+00,\n",
       "        5.53195800e+00,  4.85625485e+00,  3.48568293e+00,  3.79624764e+00,\n",
       "        3.28921101e+00,  1.27842874e+00,  8.85861486e-01, -2.06356456e-01,\n",
       "        4.92293779e-01,  1.01391901e+00,  1.51081215e+00,  8.45770532e-01,\n",
       "        1.57732211e+00,  1.89697190e+00,  1.48711736e+00,  1.03377993e+00,\n",
       "        1.92648808e+00,  1.45288402e+00,  1.75654050e+00,  2.79049748e+00,\n",
       "        4.69984011e+00,  6.36371323e+00,  7.26453600e+00,  5.75862465e+00,\n",
       "        5.06957622e+00,  4.52148903e+00,  6.17463886e+00,  5.47532092e+00,\n",
       "        5.86148730e+00,  5.96235436e+00,  5.02722715e+00,  5.40905116e+00,\n",
       "        5.80734725e+00,  4.55157237e+00,  5.77444981e+00,  3.68793978e+00,\n",
       "        3.09718263e+00,  4.06915292e+00,  2.87589509e+00,  3.22616101e+00,\n",
       "        1.92980062e+00,  1.83677648e+00, -4.76996635e-01, -1.31956834e+00,\n",
       "       -2.86248978e+00, -3.26425353e+00, -3.67948492e+00, -4.35314909e+00,\n",
       "       -3.55523590e+00, -4.44211550e+00, -3.80772883e+00, -2.17845306e+00,\n",
       "       -2.03938891e+00, -2.89705911e+00, -4.14639763e+00, -4.85618273e+00,\n",
       "       -4.15154001e+00, -3.99594927e+00, -3.05915405e+00, -2.28882318e+00,\n",
       "       -2.14801252e+00, -1.67452426e+00,  1.80721948e-01,  1.59637817e+00])"
      ]
     },
     "execution_count": 35,
     "metadata": {},
     "output_type": "execute_result"
    }
   ],
   "source": [
    "line.y[0]"
   ]
  },
  {
   "cell_type": "markdown",
   "metadata": {},
   "source": [
    "# Moving points around"
   ]
  },
  {
   "cell_type": "code",
   "execution_count": 42,
   "metadata": {},
   "outputs": [
    {
     "data": {
      "text/plain": [
       "Label(colors=['#1f77b4', '#ff7f0e', '#2ca02c', '#d62728', '#9467bd', '#8c564b', '#e377c2', '#7f7f7f', '#bcbd22', '#17becf'], interactions={'hover': 'tooltip'}, scales_metadata={'x': {'orientation': 'horizontal', 'dimension': 'x'}, 'y': {'orientation': 'vertical', 'dimension': 'y'}, 'color': {'dimension': 'color'}, 'size': {'dimension': 'size'}, 'opacity': {'dimension': 'opacity'}, 'rotation': {'dimension': 'rotation'}}, tooltip_style={'opacity': 0.9})"
      ]
     },
     "metadata": {},
     "output_type": "display_data"
    },
    {
     "data": {
      "application/vnd.jupyter.widget-view+json": {
       "model_id": "a79c1d2e6eda42b88c7dce6d65a61f90",
       "version_major": 2,
       "version_minor": 0
      },
      "text/plain": [
       "Figure(axes=[Axis(scale=LinearScale()), Axis(orientation='vertical', scale=LinearScale(), tick_format='0.2f')]…"
      ]
     },
     "metadata": {},
     "output_type": "display_data"
    }
   ],
   "source": [
    "from bqplot import *\n",
    "\n",
    "size = 100\n",
    "np.random.seed(0)\n",
    "x_data = range(size)\n",
    "y_data = np.cumsum(np.random.randn(size) * 100.0)\n",
    "\n",
    "## Enabling moving of points in scatter. Try to click and drag any of the points in the scatter and \n",
    "## notice the line representing the mean of the data update\n",
    "\n",
    "sc_x = LinearScale()\n",
    "sc_y = LinearScale()\n",
    "\n",
    "scat = Scatter(x=x_data[:10], y=y_data[:10], scales={'x': sc_x, 'y': sc_y}, default_colors=['blue'],\n",
    "               enable_move=True)\n",
    "lin = Lines(scales={'x': sc_x, 'y': sc_y}, stroke_width=4, line_style='dashed', colors=['orange'])\n",
    "m = Label(value='Mean is %s'%np.mean(scat.y))\n",
    "\n",
    "def update_line(change):\n",
    "    with lin.hold_sync():\n",
    "        lin.x = [np.min(scat.x), np.max(scat.x)]\n",
    "        lin.y = [np.mean(scat.y), np.mean(scat.y)]\n",
    "        m.value='Mean is %s'%np.mean(scat.y)\n",
    "        \n",
    "\n",
    "update_line(None)\n",
    "\n",
    "# update line on change of x or y of scatter\n",
    "scat.observe(update_line, names='x')\n",
    "scat.observe(update_line, names='y')\n",
    "\n",
    "ax_x = Axis(scale=sc_x)\n",
    "ax_y = Axis(scale=sc_y, tick_format='0.2f', orientation='vertical')\n",
    "\n",
    "fig = Figure(marks=[scat, lin], axes=[ax_x, ax_y])\n",
    "\n",
    "## In this case on drag, the line updates as you move the points.\n",
    "with scat.hold_sync():\n",
    "    scat.enable_move = True\n",
    "    scat.update_on_move = True\n",
    "    scat.enable_add = False\n",
    "\n",
    "display(m, fig)"
   ]
  },
  {
   "cell_type": "code",
   "execution_count": null,
   "metadata": {
    "collapsed": true,
    "jupyter": {
     "outputs_hidden": true
    }
   },
   "outputs": [],
   "source": []
  },
  {
   "cell_type": "code",
   "execution_count": null,
   "metadata": {},
   "outputs": [],
   "source": []
  },
  {
   "cell_type": "code",
   "execution_count": null,
   "metadata": {},
   "outputs": [],
   "source": []
  }
 ],
 "metadata": {
  "kernelspec": {
   "display_name": "Python 3 (ipykernel)",
   "language": "python",
   "name": "python3"
  },
  "language_info": {
   "codemirror_mode": {
    "name": "ipython",
    "version": 3
   },
   "file_extension": ".py",
   "mimetype": "text/x-python",
   "name": "python",
   "nbconvert_exporter": "python",
   "pygments_lexer": "ipython3",
   "version": "3.9.15"
  },
  "widgets": {
   "state": {
    "0ba98b0561564e5987dba19d1b574c04": {
     "views": [
      {
       "cell_index": 29
      }
     ]
    },
    "1ffa1ac6658e4eef89e45cf62daae339": {
     "views": [
      {
       "cell_index": 30
      }
     ]
    },
    "42735872becb4c43b817ccff90973d63": {
     "views": [
      {
       "cell_index": 15
      }
     ]
    },
    "4b9a5b18593545faba761a719b2e6039": {
     "views": [
      {
       "cell_index": 17
      }
     ]
    },
    "7fb14b25d15240ec820c565619fe4f11": {
     "views": [
      {
       "cell_index": 7
      }
     ]
    },
    "99604f1b70c54e19a508c95d705ce488": {
     "views": [
      {
       "cell_index": 9
      }
     ]
    },
    "bf805af773d94496888afbe9e2bd3d37": {
     "views": [
      {
       "cell_index": 13
      }
     ]
    },
    "dc1b84a0e5fa4ed5a42454cfc52c44f5": {
     "views": [
      {
       "cell_index": 25
      }
     ]
    },
    "f30275bcf69e426c9d45a525833198d0": {
     "views": [
      {
       "cell_index": 5
      }
     ]
    }
   },
   "version": "2.0.0-dev"
  }
 },
 "nbformat": 4,
 "nbformat_minor": 4
}
